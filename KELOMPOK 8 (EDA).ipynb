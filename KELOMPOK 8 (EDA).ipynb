{
 "cells": [
  {
   "cell_type": "markdown",
   "id": "161e6417-269e-4f67-a615-4e890c2c564e",
   "metadata": {},
   "source": [
    "# Menganalisis Keterkaitan Ekonomi, Akses Kesehatan, dan Infrastruktur terhadap Kesehatan Masyarakat di Jawa Barat menggunakan Exploratory Data Analysis (EDA)"
   ]
  },
  {
   "cell_type": "markdown",
   "id": "06d517ac-023f-4f08-8412-b7b7ebdff473",
   "metadata": {},
   "source": [
    "# Kelompok 8\n",
    "##### 1. Hasbi Haqqul Fikri (2309245)\n",
    "##### 2. Naeya Adeani Putri (2304017)\n",
    "##### 3. Ririn Marchelina (2303662)\n",
    "##### 4. Muhammad Ichsan Khairullah (2306924)\n",
    "##### 5. Ismail Fatih Raihan (2307840)"
   ]
  },
  {
   "cell_type": "markdown",
   "id": "e0016f62-c2c4-4e99-8870-f783bf0e2277",
   "metadata": {
    "jp-MarkdownHeadingCollapsed": true
   },
   "source": [
    "# Pendahuluan"
   ]
  },
  {
   "cell_type": "markdown",
   "id": "f3491af5-7552-4dfc-b976-18b3fe30ada7",
   "metadata": {},
   "source": [
    "# Rumusan Masalah\n"
   ]
  },
  {
   "cell_type": "markdown",
   "id": "476b4f0f-f19c-4c77-b1c1-a88b81accd7f",
   "metadata": {},
   "source": [
    "## Import Libraries\n",
    "##### 1. %matplotlib inline: Menampilkan grafik Matplotlib secara langsung di Jupyter Notebook.\n",
    "##### 2. NumPy: Library untuk manipulasi array dan operasi matematis yang efisien.\n",
    "##### 3. Pandas: Library untuk manipulasi dan analisis data dengan struktur DataFrame dan Series.\n",
    "##### 4. Matplotlib: Library plotting 2D untuk membuat berbagai jenis grafik.\n",
    "##### 5. Seaborn: Library visualisasi data yang berbasis Matplotlib, dengan antarmuka yang lebih menarik dan informatif.\n",
    "#####\n",
    "#####"
   ]
  },
  {
   "cell_type": "code",
   "execution_count": 6,
   "id": "4fa80ded-c8b6-4214-bac6-f54879c1b99f",
   "metadata": {},
   "outputs": [],
   "source": [
    "%matplotlib inline\n",
    "import numpy as np\n",
    "import pandas as pd\n",
    "import matplotlib.pyplot as plt\n",
    "import seaborn as sns\n"
   ]
  },
  {
   "cell_type": "markdown",
   "id": "e34fa298-7c81-4a5b-af24-8794dc2e290e",
   "metadata": {},
   "source": [
    "## Load Data Set"
   ]
  },
  {
   "cell_type": "code",
   "execution_count": null,
   "id": "cca94ac9-8995-4511-acd1-1f39b4fe3466",
   "metadata": {},
   "outputs": [],
   "source": []
  }
 ],
 "metadata": {
  "kernelspec": {
   "display_name": "Python 3 (ipykernel)",
   "language": "python",
   "name": "python3"
  },
  "language_info": {
   "codemirror_mode": {
    "name": "ipython",
    "version": 3
   },
   "file_extension": ".py",
   "mimetype": "text/x-python",
   "name": "python",
   "nbconvert_exporter": "python",
   "pygments_lexer": "ipython3",
   "version": "3.12.4"
  }
 },
 "nbformat": 4,
 "nbformat_minor": 5
}
